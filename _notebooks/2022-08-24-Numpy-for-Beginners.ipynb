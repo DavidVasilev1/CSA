{
  "cells": [
    {
      "cell_type": "markdown",
      "metadata": {},
      "source": [
        "---\n",
        "- title: Intro to Numpy\n",
        "- author: alex\n",
        "- badges: true\n",
        "- comments: true\n",
        "- categories: [numpy,data science]\n",
        "- date: 2023-08-20 01:57:00 -0800\n",
        "- tags: [notebooks]\n",
        "- render_with_liquid: false\n",
        "---"
      ]
    },
    {
      "cell_type": "markdown",
      "metadata": {
        "id": "fkLupYLyZ8kf"
      },
      "source": [
        "## NumPy\n",
        "\n",
        "NumPy is the fundamental package for scientific computing with Python.\n",
        "\n",
        "At the core of the NumPy package, is the `ndarray` object or n-dimensional array. In programming, array describes a collection of elements, similar to a list. The word n-dimensional refers to the fact that ndarrays can have one or more dimensions. \n",
        "\n",
        "Here I will directly convert a list to an ndarray using the `numpy.array()` constructor. To create a 1D ndarray, I can pass in a single list"
      ]
    },
    {
      "cell_type": "code",
      "execution_count": 5,
      "metadata": {
        "id": "8B79LHsFY8sp"
      },
      "outputs": [],
      "source": [
        "import numpy as np #using the alias np\n",
        "array_data = np.array([1,2,3,4])"
      ]
    },
    {
      "cell_type": "code",
      "execution_count": 6,
      "metadata": {
        "colab": {
          "base_uri": "https://localhost:8080/"
        },
        "id": "DhOjpT5ke2Ad",
        "outputId": "2ecd041a-e64f-48a9-8a5a-eec40625fa3a"
      },
      "outputs": [
        {
          "name": "stdout",
          "output_type": "stream",
          "text": [
            "[1 2 3 4]\n",
            "<class 'numpy.ndarray'>\n"
          ]
        }
      ],
      "source": [
        "print(array_data)\n",
        "print(type(array_data))"
      ]
    },
    {
      "cell_type": "markdown",
      "metadata": {
        "id": "9Y13LgrRkj1-"
      },
      "source": [
        "It's often useful to know the number of rows and columns in a ndarray. I can use the `ndarray.shape` attribute. \n"
      ]
    },
    {
      "cell_type": "code",
      "execution_count": 7,
      "metadata": {
        "colab": {
          "base_uri": "https://localhost:8080/"
        },
        "id": "lSijS57fjOnu",
        "outputId": "93ae5211-5dc7-402d-a7f8-6443bd2acee3"
      },
      "outputs": [
        {
          "name": "stdout",
          "output_type": "stream",
          "text": [
            "(2, 3)\n"
          ]
        }
      ],
      "source": [
        "array_2D = np.array([[5, 10, 15],\n",
        "                    [20, 25, 30]])\n",
        "print(array_2D.shape) \n"
      ]
    },
    {
      "cell_type": "markdown",
      "metadata": {
        "id": "7BjarFZpcKbI"
      },
      "source": [
        "### Vectorization in NumPy\n",
        "The NumPy library takes advantage of a processor feature called *Single Instruction Multiple Data (SIMD)* to process data faster. SIMD allows a processor to perform the same operation on multiple data points in a single processor cycle.\n",
        "\n",
        "The concept of replacing for loops with operations applied to multiple data points at once is called **vectorization**, and ndarrays make vectorization possible."
      ]
    },
    {
      "cell_type": "code",
      "execution_count": 8,
      "metadata": {
        "colab": {
          "base_uri": "https://localhost:8080/"
        },
        "id": "98m8gYY2e4zR",
        "outputId": "0b62c482-ae8b-444b-d99b-49726e06b931"
      },
      "outputs": [
        {
          "name": "stdout",
          "output_type": "stream",
          "text": [
            "[6, 5]\n",
            "[1, 3]\n",
            "[5, 6]\n",
            "[1, 4]\n",
            "[3, 7]\n",
            "[5, 8]\n",
            "[3, 5]\n",
            "[8, 4]\n"
          ]
        }
      ],
      "source": [
        "numbers = [[6, 5], [1, 3], [5, 6], [1, 4], [3, 7], [5, 8], [3, 5], [8, 4]]\n",
        "print(*numbers, sep='\\n')"
      ]
    },
    {
      "cell_type": "code",
      "execution_count": 9,
      "metadata": {
        "colab": {
          "base_uri": "https://localhost:8080/"
        },
        "id": "Cc-Iq9Gac7NX",
        "outputId": "f9ff2a41-c58a-4284-ea2b-2c70039cdeaf"
      },
      "outputs": [
        {
          "name": "stdout",
          "output_type": "stream",
          "text": [
            "[11, 4, 11, 5, 10, 13, 8, 12]\n"
          ]
        }
      ],
      "source": [
        "# Python for loops implementation\n",
        "sums = []\n",
        "for row in numbers:\n",
        "  row_sum = row[0] + row[1]\n",
        "  sums.append(row_sum)\n",
        "\n",
        "print(sums)"
      ]
    },
    {
      "cell_type": "code",
      "execution_count": 10,
      "metadata": {
        "colab": {
          "base_uri": "https://localhost:8080/"
        },
        "id": "flqq55IGdNRI",
        "outputId": "43179191-2854-4e48-826d-4b5a6ba727db"
      },
      "outputs": [
        {
          "name": "stdout",
          "output_type": "stream",
          "text": [
            "[11  4 11  5 10 13  8 12]\n"
          ]
        }
      ],
      "source": [
        "# NumPy\n",
        "# Convert the list of lists to an ndarray\n",
        "np_numbers = np.array(numbers)\n",
        "sums = np_numbers[:,0] + np_numbers[:,1]\n",
        "print(sums)\n"
      ]
    },
    {
      "cell_type": "markdown",
      "metadata": {
        "id": "NAgHmn_tgbgW"
      },
      "source": [
        "When I selected each column, we used the syntax `ndarray[:,c]` where c is the column index I wanted to select. The colon selects all rows."
      ]
    },
    {
      "cell_type": "code",
      "execution_count": 11,
      "metadata": {
        "colab": {
          "base_uri": "https://localhost:8080/"
        },
        "id": "9x7XvGEOf8-p",
        "outputId": "5a5b892b-59e5-4bde-d015-fea92805aca2"
      },
      "outputs": [
        {
          "name": "stdout",
          "output_type": "stream",
          "text": [
            "[[6 5]\n",
            " [5 6]\n",
            " [3 7]]\n"
          ]
        }
      ],
      "source": [
        "# Select one or more data in ndarray\n",
        "#print(np_numbers)\n",
        "#print(np_numbers[1])\n",
        "#print(np_numbers[2:])\n",
        "\n",
        "#print(np_numbers[3,1])\n",
        "#print(np_numbers[:,1])\n",
        "\n",
        "# Select specific row\n",
        "rows = [0, 2, 4]\n",
        "print(np_numbers[rows, :])"
      ]
    },
    {
      "cell_type": "markdown",
      "metadata": {
        "id": "EZGqeKAwMiyL"
      },
      "source": [
        "### Explore the numerical dataset\n",
        "To explore two-dimensional (2D) ndarrays, I'll analyze New York City taxi trip data released by the city of New York."
      ]
    },
    {
      "cell_type": "code",
      "execution_count": 12,
      "metadata": {
        "colab": {
          "base_uri": "https://localhost:8080/"
        },
        "id": "-QcZLWceuVSz",
        "outputId": "9ca4f9fc-be0c-4e11-b07f-eff75b3a781e"
      },
      "outputs": [
        {
          "name": "stdout",
          "output_type": "stream",
          "text": [
            "/content/: Scheme missing.\n",
            "--2023-08-20 01:54:35--  https://datasets21.s3-us-west-1.amazonaws.com/nyc_taxis.csv\n",
            "Resolving datasets21.s3-us-west-1.amazonaws.com (datasets21.s3-us-west-1.amazonaws.com)... 52.219.120.97, 3.5.163.189, 3.5.163.195, ...\n",
            "Connecting to datasets21.s3-us-west-1.amazonaws.com (datasets21.s3-us-west-1.amazonaws.com)|52.219.120.97|:443... connected.\n"
          ]
        },
        {
          "name": "stdout",
          "output_type": "stream",
          "text": [
            "HTTP request sent, awaiting response... 200 OK\n",
            "Length: 115517 (113K) [text/csv]\n",
            "Saving to: ‘nyc_taxis.csv’\n",
            "\n",
            "nyc_taxis.csv       100%[===================>] 112.81K   366KB/s    in 0.3s    \n",
            "\n",
            "2023-08-20 01:54:35 (366 KB/s) - ‘nyc_taxis.csv’ saved [115517/115517]\n",
            "\n",
            "FINISHED --2023-08-20 01:54:35--\n",
            "Total wall clock time: 0.7s\n",
            "Downloaded: 1 files, 113K in 0.3s (366 KB/s)\n"
          ]
        }
      ],
      "source": [
        "!wget -nc /content/ https://datasets21.s3-us-west-1.amazonaws.com/nyc_taxis.csv"
      ]
    },
    {
      "cell_type": "code",
      "execution_count": null,
      "metadata": {
        "colab": {
          "base_uri": "https://localhost:8080/"
        },
        "id": "_jB8gSmB6h1Q",
        "outputId": "f4f3f64d-ee8d-484d-ddc1-7a53858602dd"
      },
      "outputs": [],
      "source": [
        "!wget --help"
      ]
    },
    {
      "cell_type": "code",
      "execution_count": 14,
      "metadata": {
        "colab": {
          "base_uri": "https://localhost:8080/"
        },
        "id": "4msSSvZ6hyT-",
        "outputId": "87606c7e-f595-4293-806f-d7d0dcb11030"
      },
      "outputs": [
        {
          "name": "stdout",
          "output_type": "stream",
          "text": [
            "2014\n",
            "15\n"
          ]
        }
      ],
      "source": [
        "from csv import reader\n",
        "#Load data into the notebook\n",
        "with open('nyc_taxis.csv', 'r') as taxis_file:\n",
        "  taxis = list(reader(taxis_file))\n",
        "\n",
        "print(len(taxis))\n",
        "print(len(taxis[0]))\n"
      ]
    },
    {
      "cell_type": "code",
      "execution_count": 15,
      "metadata": {
        "id": "bO-_Mt_IPbiu"
      },
      "outputs": [],
      "source": [
        "import numpy as np\n",
        "np_taxis = np.array(taxis)"
      ]
    },
    {
      "cell_type": "code",
      "execution_count": 16,
      "metadata": {
        "colab": {
          "base_uri": "https://localhost:8080/"
        },
        "id": "tpsxCE2oTC6C",
        "outputId": "2dfc7bc3-a1a7-4a29-d790-51e2a4081b2d"
      },
      "outputs": [
        {
          "name": "stdout",
          "output_type": "stream",
          "text": [
            "[['pickup_year' 'pickup_month' 'pickup_day' 'pickup_dayofweek'\n",
            "  'pickup_time' 'pickup_location_code' 'dropoff_location_code'\n",
            "  'trip_distance' 'trip_length' 'fare_amount' 'fees_amount'\n",
            "  'tolls_amount' 'tip_amount' 'total_amount' 'payment_type']\n",
            " ['2016' '1' '1' '5' '0' '2' '4' '21.00' '2037' '52.00' '0.80' '5.54'\n",
            "  '11.65' '69.99' '1']\n",
            " ['2016' '1' '1' '5' '0' '2' '1' '16.29' '1520' '45.00' '1.30' '0.00'\n",
            "  '8.00' '54.30' '1']]\n"
          ]
        },
        {
          "data": {
            "text/plain": [
              "(2014, 15)"
            ]
          },
          "execution_count": 16,
          "metadata": {},
          "output_type": "execute_result"
        }
      ],
      "source": [
        "print(np_taxis[:3])\n",
        "np_taxis.shape"
      ]
    },
    {
      "cell_type": "markdown",
      "metadata": {
        "id": "rL9OUl1Nhr2R"
      },
      "source": [
        "I'll only work with a subset of the real data — approximately 90,000 yellow taxi trips to and from New York City airports between January and June 2016. This data set includes a 1/50th random sample.\n",
        "Below is information about selected columns from the dataset:\n",
        "\n",
        "* pickup_year: the year of the trip\n",
        "pickup_month: the month of the trip (January is 1, December is 12)\n",
        "* pickup_day: the day of the month of the trip\n",
        "* pickup_location_code: the airport or borough where the trip started\n",
        "* dropoff_location_code: the airport or borough where the trip ended\n",
        "* trip_distance: the distance of the trip in miles\n",
        "* trip_length: the length of the trip in seconds\n",
        "* fare_amount: the base fare of the trip, in dollars\n",
        "* total_amount: the total amount charged to the passenger, including all fees, tolls and tips\n",
        "\n",
        "Detailed information on all columns could be found [here](https://s3.amazonaws.com/dq-content/289/nyc_taxi_data_dictionary.md)."
      ]
    },
    {
      "cell_type": "code",
      "execution_count": 17,
      "metadata": {
        "id": "JJBi-XF6TGpf"
      },
      "outputs": [],
      "source": [
        "# Load CSV with NumPy\n",
        "# Access the column by names\n",
        "np_taxis = np.genfromtxt('nyc_taxis.csv',delimiter=',', names= True)"
      ]
    },
    {
      "cell_type": "markdown",
      "metadata": {
        "id": "n9pR4QTXsIPi"
      },
      "source": [
        "References:\n",
        "\n",
        "[NumPy genfromtxt function - API Reference](https://numpy.org/doc/stable/reference/generated/numpy.genfromtxt.html0)\n",
        "\n",
        "[Tutorial for genfromtxt](https://www.pythonpool.com/numpy-genfromtxt/)\n"
      ]
    },
    {
      "cell_type": "code",
      "execution_count": 18,
      "metadata": {
        "id": "hq8XjH3pWfe6"
      },
      "outputs": [
        {
          "name": "stdout",
          "output_type": "stream",
          "text": [
            "(2013,)\n",
            "4.0\n"
          ]
        }
      ],
      "source": [
        "print(np_taxis.shape)\n",
        "print(np_taxis[10]['pickup_location_code'])"
      ]
    },
    {
      "cell_type": "code",
      "execution_count": 19,
      "metadata": {
        "id": "uJjHlEcePVyz"
      },
      "outputs": [
        {
          "name": "stdout",
          "output_type": "stream",
          "text": [
            "(2,)\n"
          ]
        }
      ],
      "source": [
        "z = np.array([1,2])\n",
        "print(z.shape)"
      ]
    },
    {
      "cell_type": "code",
      "execution_count": 20,
      "metadata": {
        "id": "NBcziMYIPj6s"
      },
      "outputs": [
        {
          "name": "stdout",
          "output_type": "stream",
          "text": [
            "(2, 1)\n"
          ]
        }
      ],
      "source": [
        "y = np.array([[1],[2]])\n",
        "print(y.shape)"
      ]
    },
    {
      "cell_type": "code",
      "execution_count": 21,
      "metadata": {
        "id": "orxJG4hSgVKM"
      },
      "outputs": [],
      "source": [
        "# Access the column by index\n",
        "np_taxis = np.genfromtxt('nyc_taxis.csv',delimiter=',', skip_header=1)"
      ]
    },
    {
      "cell_type": "code",
      "execution_count": 22,
      "metadata": {
        "id": "gTssRC2vNuYH"
      },
      "outputs": [
        {
          "name": "stdout",
          "output_type": "stream",
          "text": [
            "(2013, 15)\n"
          ]
        }
      ],
      "source": [
        "print(np_taxis.shape)"
      ]
    },
    {
      "cell_type": "code",
      "execution_count": 23,
      "metadata": {
        "id": "QCHJS2IVWokB"
      },
      "outputs": [
        {
          "name": "stdout",
          "output_type": "stream",
          "text": [
            "[2.016e+03 1.000e+00 1.000e+00 5.000e+00 1.000e+00 4.000e+00 2.000e+00\n",
            " 1.660e+01 1.467e+03 5.200e+01 8.000e-01 5.540e+00 0.000e+00 5.834e+01\n",
            " 2.000e+00]\n"
          ]
        }
      ],
      "source": [
        "print(np_taxis[10])"
      ]
    },
    {
      "cell_type": "code",
      "execution_count": 24,
      "metadata": {
        "id": "FJqa8PjQlIv4"
      },
      "outputs": [],
      "source": [
        "np.set_printoptions(suppress=True)"
      ]
    },
    {
      "cell_type": "code",
      "execution_count": 25,
      "metadata": {
        "id": "zFPFNIq2Wvss"
      },
      "outputs": [
        {
          "name": "stdout",
          "output_type": "stream",
          "text": [
            "[2016.      1.      1.      5.      1.      4.      2.     16.6  1467.\n",
            "   52.      0.8     5.54    0.     58.34    2.  ]\n"
          ]
        }
      ],
      "source": [
        "print(np_taxis[10])"
      ]
    },
    {
      "cell_type": "code",
      "execution_count": 26,
      "metadata": {
        "id": "yfUWffz1OLj8"
      },
      "outputs": [
        {
          "name": "stdout",
          "output_type": "stream",
          "text": [
            "[2016.      1.      1.      5.      0.      2.      1.     16.29 1520.\n",
            "   45.      1.3     0.      8.     54.3     1.  ]\n"
          ]
        }
      ],
      "source": [
        "print(np_taxis[1])"
      ]
    },
    {
      "cell_type": "code",
      "execution_count": 27,
      "metadata": {
        "id": "wg3empiJlnu3"
      },
      "outputs": [
        {
          "name": "stdout",
          "output_type": "stream",
          "text": [
            "[[ 2.   4.  52.   0.8]\n",
            " [ 2.   1.  45.   1.3]\n",
            " [ 2.   6.  36.5  1.3]\n",
            " ...\n",
            " [ 2.   4.  52.   0.8]\n",
            " [ 2.   6.  34.5  1.3]\n",
            " [ 2.   0.  48.   1.3]]\n"
          ]
        }
      ],
      "source": [
        "# select 'pickup_location_code', 'dropoff_location_code','fare_amount', 'fees_amount'\n",
        "cols = [5, 6, 9, 10]\n",
        "print(np_taxis[:,cols])"
      ]
    },
    {
      "cell_type": "markdown",
      "metadata": {
        "id": "ZrPgOSIJp2nk"
      },
      "source": [
        "### Get the Frequency Table of taxis based on the Pickup Location"
      ]
    },
    {
      "cell_type": "code",
      "execution_count": 28,
      "metadata": {
        "id": "l-Cdtl9knHbE"
      },
      "outputs": [
        {
          "name": "stdout",
          "output_type": "stream",
          "text": [
            "[0. 1. 2. 3. 4. 5. 6. 7.]\n"
          ]
        }
      ],
      "source": [
        "print(np.unique(np_taxis[:,6]))"
      ]
    },
    {
      "cell_type": "code",
      "execution_count": 29,
      "metadata": {
        "id": "4X-RBRZTopvT"
      },
      "outputs": [
        {
          "name": "stdout",
          "output_type": "stream",
          "text": [
            "[0. 1. 2. 3. 4. 5. 6. 7.]\n",
            "[ 31 261 285 308 930   2 194   2]\n"
          ]
        }
      ],
      "source": [
        "unique, counts = np.unique(np_taxis[:,6], return_counts=True)\n",
        "print(unique)\n",
        "print(counts)"
      ]
    },
    {
      "cell_type": "code",
      "execution_count": 30,
      "metadata": {
        "id": "B6_rNVL_zevi"
      },
      "outputs": [
        {
          "name": "stdout",
          "output_type": "stream",
          "text": [
            "[69.99 54.3  37.8  ... 63.34 44.75 54.84]\n"
          ]
        }
      ],
      "source": [
        "print(np_taxis[:,-2])"
      ]
    },
    {
      "cell_type": "code",
      "execution_count": 31,
      "metadata": {
        "id": "Y8gzb_LOCVJK"
      },
      "outputs": [
        {
          "name": "stdout",
          "output_type": "stream",
          "text": [
            "[37.11340206 38.58157895 31.27222982 ... 22.29907867 42.41551247\n",
            " 36.90473407]\n"
          ]
        }
      ],
      "source": [
        "# elementwise calculation\n",
        "# Calculate the mph of each trip\n",
        "trip_distance_miles = np_taxis[:,7]\n",
        "trip_length_seconds = np_taxis[:,8]\n",
        "\n",
        "trip_length_hours = trip_length_seconds / 3600 # 3600 seconds is one hour\n",
        "\n",
        "trip_mph = trip_distance_miles / trip_length_hours\n",
        "print(trip_mph)"
      ]
    },
    {
      "cell_type": "code",
      "execution_count": 32,
      "metadata": {
        "id": "A3vGvrTspxD_"
      },
      "outputs": [
        {
          "name": "stdout",
          "output_type": "stream",
          "text": [
            "Descriptive analysis\n",
            "\n",
            "\n",
            "Measures of Central Tendency\n",
            "Mean = 48.67809239940387\n",
            "Median = 47.89\n",
            "Measures of Dispersion\n",
            "Minimum = 0.31\n",
            "Maximum = 141.88\n",
            "Range = 141.57\n",
            "Varience = 266.02520798550114\n",
            "Standard Deviation = 16.310279212370986\n"
          ]
        }
      ],
      "source": [
        "# Display the Descriptive analysis of the total taxi charge for your trip\n",
        "total_amount = np_taxis[:,-2]\n",
        "# measures of central tendency\n",
        "mean = np.mean(total_amount)\n",
        "median = np.median(total_amount)\n",
        "  \n",
        "# measures of dispersion\n",
        "min = np.amin(total_amount)\n",
        "max = np.amax(total_amount)\n",
        "range = np.ptp(total_amount)\n",
        "varience = np.var(total_amount)\n",
        "sd = np.std(total_amount)\n",
        "  \n",
        "print(\"Descriptive analysis\")\n",
        "print(\"\\n\")\n",
        "print(\"Measures of Central Tendency\")\n",
        "print(\"Mean =\", mean)\n",
        "print(\"Median =\", median)\n",
        "print(\"Measures of Dispersion\")\n",
        "print(\"Minimum =\", min)\n",
        "print(\"Maximum =\", max)\n",
        "print(\"Range =\", range)\n",
        "print(\"Varience =\", varience)\n",
        "print(\"Standard Deviation =\", sd)"
      ]
    }
  ],
  "metadata": {
    "colab": {
      "name": "Class6_NumPy_1.ipynb",
      "provenance": []
    },
    "kernelspec": {
      "display_name": "Python 3.8.10 64-bit",
      "language": "python",
      "name": "python3"
    },
    "language_info": {
      "codemirror_mode": {
        "name": "ipython",
        "version": 3
      },
      "file_extension": ".py",
      "mimetype": "text/x-python",
      "name": "python",
      "nbconvert_exporter": "python",
      "pygments_lexer": "ipython3",
      "version": "3.8.10"
    },
    "vscode": {
      "interpreter": {
        "hash": "916dbcbb3f70747c44a77c7bcd40155683ae19c65e1c03b4aa3499c5328201f1"
      }
    }
  },
  "nbformat": 4,
  "nbformat_minor": 0
}
