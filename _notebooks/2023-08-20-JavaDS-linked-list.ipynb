{
 "cells": [
  {
   "cell_type": "markdown",
   "metadata": {},
   "source": [
    "---\n",
    "- title: Java DS 1 Linked Lists\n",
    "- author: alex\n",
    "- badges: true\n",
    "- comments: true\n",
    "- categories: [Java, tutorials]\n",
    "- date: 2023-08-20 20:48:00 -0800\n",
    "- tags: [notebooks, java, linkedlist, datastructures]\n",
    "- render_with_liquid: false\n",
    "---"
   ]
  },
  {
   "cell_type": "markdown",
   "metadata": {},
   "source": [
    "# Linked Lists\n",
    "Linked lists are a very powerful and versatile sequential data structure. While traditional lists store their information in contiguous blocks of memory. Linked lists are more flexible. Each element in a linked list contains a value, and a reference to the next item in the list. This implementation comes with a combination of advantages and setbacks.\n",
    "\n",
    "| Advantages | Setbacks |\n",
    "|-|-|\n",
    "| Faster insertion and deletion speed | Slower traversal speed |\n",
    "| Dynammic size (can grow and shrink freely) | More memory  to store the reference to next element |\n",
    "| Flexible storage in memory | Reverse traversing not possible in a **Singly Linked-List** |\n",
    "| Minimal wasted memory (Everything is preallocated) | No random access is possible |\n",
    "\n",
    "## Singly Linked-List\n",
    "![](/assets/img/DS/singly_linked_list.png \"Singly Linked-List\")\n",
    "As the name suggests, a singly linked-list implies a single connection from one node to the next. In order words, the list can only go in one direction. Here are some terminologies for this structure:  \n",
    "\n",
    "| Vocab | Definition |\n",
    "|-|-|\n",
    "| `Node` | A distinct structure in a linked-list that contains each element | \n",
    "| `Head` | First node in the linked-list, typically the point of access |\n",
    "| `Tail` | Last node in the linked-list, points to null |\n",
    "| `Data` | The value held by a node in a linked-list |\n",
    "| `Next pointer` | Points to next element in list |  \n",
    "\n",
    "Here is an implementation of the node structure in Java."
   ]
  },
  {
   "cell_type": "code",
   "execution_count": 1,
   "metadata": {},
   "outputs": [
    {
     "data": {
      "text/plain": [
       "2"
      ]
     },
     "execution_count": 1,
     "metadata": {},
     "output_type": "execute_result"
    }
   ],
   "source": [
    "// Implementation of the Node structure\n",
    "static class Node {\n",
    "    int data;\n",
    "    Node next;\n",
    "    Node (int d) {\n",
    "        data = d;\n",
    "        next = null;\n",
    "    } \n",
    "}\n",
    "\n",
    "Node head = new Node(2);\n",
    "head.data"
   ]
  },
  {
   "cell_type": "markdown",
   "metadata": {},
   "source": [
    "Here is an implementation of a singly Linked-List in Java"
   ]
  },
  {
   "cell_type": "code",
   "execution_count": 15,
   "metadata": {},
   "outputs": [
    {
     "name": "stdout",
     "output_type": "stream",
     "text": [
      "1->2->3->4->5\n"
     ]
    }
   ],
   "source": [
    "class LinkedList {\n",
    "    Node head;\n",
    "    LinkedList(int data) {\n",
    "        head = new Node(data);\n",
    "    }\n",
    "\n",
    "    public void append(int data) {\n",
    "        Node curr = head;\n",
    "        while (curr.next != null) {\n",
    "            curr = curr.next;\n",
    "        }\n",
    "        curr.next = new Node(data);\n",
    "    }\n",
    "\n",
    "    public void insert(int idx, int data) {\n",
    "        int count = 0;\n",
    "        Node curr = head;\n",
    "        if (idx == 0){\n",
    "            Node temp = head;\n",
    "            head = new Node(data);\n",
    "            head.next = temp;\n",
    "            return;\n",
    "        }\n",
    "        while (count < idx-1) {\n",
    "            if (curr.next != null) {\n",
    "                curr = curr.next;\n",
    "                count++;\n",
    "            } else {\n",
    "                System.out.println(\"Index \" + idx + \" Out of bounds\");\n",
    "                return;\n",
    "            }\n",
    "        }\n",
    "        Node next = curr.next;\n",
    "        curr.next = new Node(data);\n",
    "        curr.next.next = next;\n",
    "    }\n",
    "\n",
    "    public void print_list() {\n",
    "        Node curr = head;\n",
    "        while (curr.next!=null){\n",
    "            System.out.print(curr.data + \"->\");\n",
    "            curr = curr.next;\n",
    "        }\n",
    "        System.out.print(curr.data + \"\\n\");\n",
    "    }\n",
    "}\n",
    "\n",
    "LinkedList ll1 = new LinkedList(1);\n",
    "ll1.head.data;\n",
    "ll1.append(2);\n",
    "ll1.append(3);\n",
    "ll1.append(4);\n",
    "ll1.insert(4,5);\n",
    "ll1.print_list();\n"
   ]
  }
 ],
 "metadata": {
  "kernelspec": {
   "display_name": "Java",
   "language": "java",
   "name": "java"
  },
  "language_info": {
   "codemirror_mode": "java",
   "file_extension": ".jshell",
   "mimetype": "text/x-java-source",
   "name": "java",
   "pygments_lexer": "java",
   "version": "3.8.10"
  },
  "orig_nbformat": 4
 },
 "nbformat": 4,
 "nbformat_minor": 2
}
