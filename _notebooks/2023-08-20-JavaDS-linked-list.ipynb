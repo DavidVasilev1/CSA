{
 "cells": [
  {
   "cell_type": "markdown",
   "metadata": {},
   "source": [
    "---\n",
    "- title: Java DS 1 Linked Lists\n",
    "- author: alex\n",
    "- badges: true\n",
    "- comments: true\n",
    "- categories: [Java, tutorials]\n",
    "- date: 2023-08-20 01:57:00 -0800\n",
    "- tags: [notebooks, java, linkedlist, datastructures]\n",
    "- render_with_liquid: false\n",
    "---"
   ]
  },
  {
   "cell_type": "markdown",
   "metadata": {},
   "source": [
    "# Linked Lists\n",
    "Linked lists are a very powerful and versatile sequential data structure. While traditional lists store their information in contiguous blocks of memory. Linked lists are more flexible. Each element in a linked list contains a value, and a reference to the next item in the list. This implementation comes with a combination of advantages and setbacks.\n",
    "\n",
    "| Advantages | Setbacks |\n",
    "|-|-|\n",
    "| Faster insertion and deletion speed | Slower traversal speed |\n",
    "| Dynammic size (can grow and shrink freely) | More memory  to store the reference to next element |\n",
    "| Flexible storage in memory | Reverse traversing not possible in a **Singly Linked-List** |\n",
    "| Minimal wasted memory (Everything is preallocated) | No random access is possible |\n",
    "\n",
    "## Singly Linked-List\n",
    "As the name suggests, a singly linked-list implies a single connection from one node to the next. In order words, the list can only go in one direction.\n",
    "![](/assets/img/DS/singly_linked_list.png \"Singly Linked-List\")\n"
   ]
  },
  {
   "cell_type": "code",
   "execution_count": null,
   "metadata": {},
   "outputs": [],
   "source": []
  }
 ],
 "metadata": {
  "kernelspec": {
   "display_name": "Java",
   "language": "java",
   "name": "java"
  },
  "language_info": {
   "name": "java"
  },
  "orig_nbformat": 4
 },
 "nbformat": 4,
 "nbformat_minor": 2
}
